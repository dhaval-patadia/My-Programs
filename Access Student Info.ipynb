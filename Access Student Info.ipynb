{
 "cells": [
  {
   "cell_type": "code",
   "execution_count": 4,
   "metadata": {},
   "outputs": [
    {
     "name": "stdout",
     "output_type": "stream",
     "text": [
      "Press 1 to receive students info from python batch\n",
      "Press 2 to receive info of students from Data Science Batch: \n",
      "Output1\n",
      "the Students in the batch are: dhaval, vaibhav and manoj\n",
      "\n",
      "Enter the Name: Dhaval\n",
      "{'Name': 'Dhaval', 'Class': 'Pyhton', 'Attendence': '95%', 'projects Done': '9 out of 10'}\n"
     ]
    }
   ],
   "source": [
    "#----- To Access the Student Info-----\n",
    "\n",
    "\n",
    "print('Press 1 to receive students info from python batch\\nPress 2 to receive info of students from Data Science Batch: ')\n",
    "num1=input('Output')\n",
    "if(num1=='1'):\n",
    "    print('the Students in the batch are: dhaval, vaibhav and manoj\\n')\n",
    "    name_python=input('Enter the Name: ')\n",
    "    name_python=name_python.lower()\n",
    "    if(name_python=='dhaval'):\n",
    "        dict1={\n",
    "            'Name':'Dhaval',\n",
    "            'Class':'Pyhton',\n",
    "            'Attendence':\"95%\",\n",
    "            'projects Done': \"9 out of 10\"\n",
    "        }\n",
    "        print(dict1)\n",
    "    elif(name_python=='manoj'):\n",
    "        dict2={\n",
    "            'Name':'Manoj',\n",
    "            'Class':'Pyhton',\n",
    "            'Attendence':\"95%\",\n",
    "            'projects Done': \"10 out of 10\"\n",
    "        }\n",
    "        print(dict2)\n",
    "    elif(name_python=='vaibhav'):\n",
    "        dict3={\n",
    "            'Name':'vaibhav',\n",
    "            'Class':'Pyhton',\n",
    "            'Attendence':\"98%\",\n",
    "            'projects Done': \"9 out of 10\"\n",
    "        }\n",
    "        print(dict3)\n",
    "    else:\n",
    "        print('Wrong Input')\n",
    "elif(num1=='2'):\n",
    "    print('the Students in the batch are: satish, ramesh and abhishek\\n')\n",
    "    name_ds=input(print('Enter the name of student:'))\n",
    "    name_ds=name_ds.lower()\n",
    "    if(name_ds=='satish'):\n",
    "        dict4={\n",
    "            'Name':'satish',\n",
    "            'Class':'DS',\n",
    "            'Attendence':\"95%\",\n",
    "            'projects Done': \"7 out of 10\"\n",
    "        }\n",
    "        print(dict4)\n",
    "    elif(name_ds=='ramesh'):\n",
    "        dict5={\n",
    "            'Name':'ramesh',\n",
    "            'Class':'DS',\n",
    "            'Attendence':\"80%\",\n",
    "            'projects Done': \"10 out of 10\"\n",
    "        }\n",
    "        print(dict5)\n",
    "    elif(name_ds=='abhishek'):\n",
    "        dict6={\n",
    "            'Name':'abhishek',\n",
    "            'Class':'DS',\n",
    "            'Attendence':\"98%\",\n",
    "            'projects Done': \"9 out of 10\"\n",
    "        }\n",
    "        print(dict6)\n",
    "    else:\n",
    "        print('Wrong Input')\n",
    "else:\n",
    "    print(\"wrong input\")\n"
   ]
  },
  {
   "cell_type": "code",
   "execution_count": null,
   "metadata": {},
   "outputs": [],
   "source": []
  }
 ],
 "metadata": {
  "kernelspec": {
   "display_name": "Python 3",
   "language": "python",
   "name": "python3"
  },
  "language_info": {
   "codemirror_mode": {
    "name": "ipython",
    "version": 3
   },
   "file_extension": ".py",
   "mimetype": "text/x-python",
   "name": "python",
   "nbconvert_exporter": "python",
   "pygments_lexer": "ipython3",
   "version": "3.7.6"
  }
 },
 "nbformat": 4,
 "nbformat_minor": 4
}
